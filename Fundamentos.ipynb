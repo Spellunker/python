{
 "cells": [
  {
   "cell_type": "markdown",
   "id": "f10b5fd3-ed58-4f5c-9e7e-296615df5cda",
   "metadata": {
    "jp-MarkdownHeadingCollapsed": true
   },
   "source": [
    "# Primeiros Exemplos"
   ]
  },
  {
   "cell_type": "code",
   "execution_count": null,
   "id": "5c6d5d80-3424-4c97-924f-152a4e2cc895",
   "metadata": {},
   "outputs": [],
   "source": [
    "print(\"Hello world!\")\n",
    "1 \\\n",
    "+ 2"
   ]
  },
  {
   "cell_type": "code",
   "execution_count": null,
   "id": "a75089c7-a1a0-467a-8dac-afbbdceb5d15",
   "metadata": {},
   "outputs": [],
   "source": [
    "help(print)"
   ]
  },
  {
   "cell_type": "code",
   "execution_count": null,
   "id": "0e180631-f8e6-4a25-812a-03c2b821f8c1",
   "metadata": {},
   "outputs": [],
   "source": [
    "1 + 2 + 3\n",
    "4+ 5 + 6"
   ]
  },
  {
   "cell_type": "code",
   "execution_count": null,
   "id": "b60f86d2-5837-4a2a-9b54-4e4ee6ede3f6",
   "metadata": {},
   "outputs": [],
   "source": [
    "print(1 + 2 + 3)\n",
    "print(4+ 5 + 6)"
   ]
  },
  {
   "cell_type": "markdown",
   "id": "a1c5e24d-a34b-49e0-bbaa-058aec5f4c78",
   "metadata": {
    "jp-MarkdownHeadingCollapsed": true
   },
   "source": [
    "# Tipos Básicos"
   ]
  },
  {
   "cell_type": "code",
   "execution_count": null,
   "id": "bd2a68d6-be76-47e9-a41d-8af39941d3b1",
   "metadata": {},
   "outputs": [],
   "source": [
    "print(True) #Boolean\n",
    "print(False) #Boolean\n",
    "print(1.2 + 1) #Float e Int\n",
    "print(\"Aqui eu falo minha língua\") #String\n",
    "print(\"Você é \" + 3 * \"muito \" + \"legal!\") #Concatenação strings\n",
    "# print(3 + \"3\") ->ambiguidade\n",
    "print([1, 2, 3]) #Lista\n",
    "print({\"nome\": \"Pedro\", \"idade\": 22}) #Dicionário\n",
    "print(None) #Null"
   ]
  },
  {
   "cell_type": "markdown",
   "id": "8dc4000c-e611-4b05-9327-b25b2880f130",
   "metadata": {
    "jp-MarkdownHeadingCollapsed": true
   },
   "source": [
    "# Variáveis"
   ]
  },
  {
   "cell_type": "code",
   "execution_count": null,
   "id": "983abe22-907c-4496-89c3-1c5e12134b75",
   "metadata": {},
   "outputs": [],
   "source": [
    "a = 10\n",
    "b = 5.2\n",
    "\n",
    "print(a + b)\n",
    "\n",
    "a = \"Agora sou uma string\"\n",
    "print(a)\n",
    "a\n",
    "b\n",
    "\n",
    "# `print(a + b) ->Conflito de tipos de variáveis"
   ]
  },
  {
   "cell_type": "markdown",
   "id": "af5476bd-e472-4fea-8818-4a412fc55571",
   "metadata": {
    "jp-MarkdownHeadingCollapsed": true
   },
   "source": [
    "# Comentários"
   ]
  },
  {
   "cell_type": "code",
   "execution_count": null,
   "id": "86d3986b-fdf1-46c0-8cb6-e25abfe87c41",
   "metadata": {},
   "outputs": [],
   "source": [
    "#Minhas variáveis\n",
    "salario = 3450.45\n",
    "despesas = 2456.2\n",
    "\n",
    "'''\n",
    "A ideia é calcular o \n",
    "quanto vai sobrar\n",
    "no final do mês!\n",
    "'''\n",
    "print(salario - despesas)\n",
    "\n",
    "# print(\"Fim\")\n",
    "print(\"Fim de verdade\") #Comentário aqui também vale!\n",
    "\n",
    "\"\"\"\n",
    "A ideia é calcular o \n",
    "quanto vai sobrar\n",
    "no final do mês!\n",
    "\"\"\"\n",
    "print(\"Agora sim o fim de verdade!\")"
   ]
  },
  {
   "cell_type": "markdown",
   "id": "dc98f120-7800-48b2-8ced-5ededdcbc476",
   "metadata": {
    "jp-MarkdownHeadingCollapsed": true
   },
   "source": [
    "# Operadores Aritméticos"
   ]
  },
  {
   "cell_type": "code",
   "execution_count": null,
   "id": "bdcd2c01-24f7-41b5-959a-4a16a846e67f",
   "metadata": {},
   "outputs": [],
   "source": [
    "print(2 + 3)\n",
    "print(4 - 7)\n",
    "print(2 * 5.3)\n",
    "print(9.4 / 3)\n",
    "print(9.4 // 3)\n",
    "print(2 ** 8)\n",
    "print(10 % 3)\n",
    "\n",
    "a = 12\n",
    "b = a\n",
    "\n",
    "print(a + b)"
   ]
  },
  {
   "cell_type": "markdown",
   "id": "1bbef68f-6f10-4fe3-9bc9-c68ba959e49e",
   "metadata": {
    "jp-MarkdownHeadingCollapsed": true
   },
   "source": [
    "# Operadores Relacionais"
   ]
  },
  {
   "cell_type": "code",
   "execution_count": null,
   "id": "28e626f9-d4b3-452e-a8bd-e6db202a2764",
   "metadata": {},
   "outputs": [],
   "source": [
    "3 > 4\n",
    "4 >= 3\n",
    "1 < 2\n",
    "3 <= 1\n",
    "3 != 1\n",
    "3 == 3\n",
    "2 == \"2\""
   ]
  },
  {
   "cell_type": "markdown",
   "id": "761968fd-e04c-4f12-a320-08ff279f40ff",
   "metadata": {
    "jp-MarkdownHeadingCollapsed": true
   },
   "source": [
    "# Operadores de Atribuição"
   ]
  },
  {
   "cell_type": "code",
   "execution_count": null,
   "id": "ca8d1997-5519-4657-bdce-9d7714d7fce3",
   "metadata": {},
   "outputs": [],
   "source": [
    "a = 3\n",
    "a = a + 7\n",
    "print(a)\n",
    "\n",
    "#a = 5\n",
    "a += 5 # a = a + 5\n",
    "print(a)\n",
    "\n",
    "a -= 3\n",
    "print(a)\n",
    "\n",
    "a *= 2\n",
    "print(a)\n",
    "\n",
    "a /= 4\n",
    "print(a)\n",
    "\n",
    "a %= 4\n",
    "print(a)\n",
    "\n",
    "a **= 8\n",
    "print(a)\n",
    "\n",
    "a //= 255\n",
    "print(a)"
   ]
  },
  {
   "cell_type": "markdown",
   "id": "415b883a-d75b-446e-88d6-8efda00b5de1",
   "metadata": {
    "jp-MarkdownHeadingCollapsed": true
   },
   "source": [
    "# Operadores Lógicos"
   ]
  },
  {
   "cell_type": "code",
   "execution_count": null,
   "id": "6b4ed57a-6096-4cbf-a4f9-ae178f976a3b",
   "metadata": {},
   "outputs": [],
   "source": [
    "True or False\n",
    "7 != 3 and 2 > 3\n",
    "\n",
    "# Tabela verdade do AND\n",
    "True and True #True\n",
    "True and False # False\n",
    "False and True # False\n",
    "False and False # False\n",
    "True and True and True and True and True and True and False #False\n",
    "\n",
    "# Tabela verdade do OR\n",
    "True and True #True\n",
    "True and False #True\n",
    "False and True #True\n",
    "False and False #False\n",
    "False and False and False and False and False and False and True #True\n",
    "\n",
    "# Tabela verdade do Xor\n",
    "True != True #False\n",
    "True != False #True\n",
    "False != True #True\n",
    "False != False #False\n",
    "\n",
    "#Operador de Negação (unário)\n",
    "not True #False\n",
    "not False #True\n",
    "\n",
    "not 0 #True\n",
    "not -1 #False\n",
    "not not True #True\n",
    "\n",
    "# Cuidado!\n",
    "True & True #True (AND)\n",
    "False | False #False (OR)\n",
    "True ^ False #True (XOR)\n",
    "\n",
    "# AND bit-a-bit\n",
    "# 3 = 11\n",
    "# 2 = 10\n",
    "# _ = 10\n",
    "3 & 2\n",
    "\n",
    "# OR bit-a-bit\n",
    "# 3 = 11\n",
    "# 2 = 10\n",
    "# _ = 11\n",
    "3 | 2\n",
    "\n",
    "# XOR bit-a-bit\n",
    "# 3 = 11\n",
    "# 2 = 10\n",
    "# _ = 01\n",
    "3 ^ 2\n",
    "\n",
    "# Um pouco de realidade\n",
    "balance = 1000\n",
    "salary = 4000\n",
    "expenses = 2967\n",
    "\n",
    "positive_balance = balance > 0\n",
    "controlled_expenses = salary - expenses >= 0.2 *salary\n",
    "\n",
    "goal = positive_balance and controlled_expenses\n",
    "goal"
   ]
  },
  {
   "cell_type": "markdown",
   "id": "013d2c52-a5bb-4dd6-8b0d-ea3d541dd3e0",
   "metadata": {
    "jp-MarkdownHeadingCollapsed": true
   },
   "source": [
    "# Operadores Unários"
   ]
  },
  {
   "cell_type": "code",
   "execution_count": null,
   "id": "ae1a6a2f-b560-44ea-ac7e-995f4c3d91b8",
   "metadata": {},
   "outputs": [],
   "source": [
    "a = 3\n",
    "# a++\n",
    "a += 1 # a = 4\n",
    "a\n",
    "# a--\n",
    "a -= 1  # a = 3\n",
    "a\n",
    "\n",
    "++a # a = 3\n",
    "a = -a # a = -3\n",
    "+a # a = -3\n",
    "\n",
    "not 0 # True\n",
    "not 1 # False\n",
    "not -2 # False\n",
    "not False # True\n",
    "not not True # True"
   ]
  },
  {
   "cell_type": "markdown",
   "id": "800d9cd0-1f8f-4ba6-a544-7be60de6e562",
   "metadata": {
    "jp-MarkdownHeadingCollapsed": true
   },
   "source": [
    "# Operadores Ternários"
   ]
  },
  {
   "cell_type": "code",
   "execution_count": null,
   "id": "ff66f92e-ba60-48f4-9420-3307e65ed428",
   "metadata": {},
   "outputs": [],
   "source": [
    "is_raining = True\n",
    "print(\"Today my clothes are \" + (\"dry.\",\"wet.\")[is_raining])\n",
    "#        Expression     + (False, True)[variable]\n",
    "\n",
    "print(\"Today my clothes are \" + (\"wet.\" if is_raining else \"dry.\"))\n",
    "#       Expression      + (True if True else False)"
   ]
  },
  {
   "cell_type": "markdown",
   "id": "c77094ff-ebd5-4fca-b8db-7d77335fd682",
   "metadata": {
    "jp-MarkdownHeadingCollapsed": true
   },
   "source": [
    "# Mais Operadores"
   ]
  },
  {
   "cell_type": "code",
   "execution_count": null,
   "id": "78cb5a64-c69c-4930-a671-c8d1399ecfa7",
   "metadata": {},
   "outputs": [],
   "source": [
    "# Operador de Membro\n",
    "list = [1, 2, 3, \"Ana\", \"Carla\"]\n",
    "2 in list # 2 está presente em list\n",
    "\"Ana\" not in list # Ana não está presente em list\n",
    "\n",
    "# Operador de Identidade\n",
    "x = 3\n",
    "y = x\n",
    "z = 3\n",
    "x is y # True\n",
    "y is z # True\n",
    "x is not z # False\n",
    "\n",
    "list_a = [1, 2, 3]\n",
    "list_b = list_a\n",
    "list_c = [1, 2, 3]\n",
    "\n",
    "list_a is list_b # True\n",
    "list_b is list_c # False\n",
    "list_a is not lict_c # True"
   ]
  },
  {
   "cell_type": "markdown",
   "id": "e65502d1-b5e6-46f1-8814-9e8c83e5ad37",
   "metadata": {
    "jp-MarkdownHeadingCollapsed": true
   },
   "source": [
    "# Builtins"
   ]
  },
  {
   "cell_type": "code",
   "execution_count": 21,
   "id": "69fbcfd8-d218-4e2f-923b-18c765d3a0d5",
   "metadata": {},
   "outputs": [
    {
     "name": "stdout",
     "output_type": "stream",
     "text": [
      "3.3333333333333335\n"
     ]
    },
    {
     "data": {
      "text/plain": [
       "['ArithmeticError',\n",
       " 'AssertionError',\n",
       " 'AttributeError',\n",
       " 'BaseException',\n",
       " 'BaseExceptionGroup',\n",
       " 'BlockingIOError',\n",
       " 'BrokenPipeError',\n",
       " 'BufferError',\n",
       " 'BytesWarning',\n",
       " 'ChildProcessError',\n",
       " 'ConnectionAbortedError',\n",
       " 'ConnectionError',\n",
       " 'ConnectionRefusedError',\n",
       " 'ConnectionResetError',\n",
       " 'DeprecationWarning',\n",
       " 'EOFError',\n",
       " 'Ellipsis',\n",
       " 'EncodingWarning',\n",
       " 'EnvironmentError',\n",
       " 'Exception',\n",
       " 'ExceptionGroup',\n",
       " 'False',\n",
       " 'FileExistsError',\n",
       " 'FileNotFoundError',\n",
       " 'FloatingPointError',\n",
       " 'FutureWarning',\n",
       " 'GeneratorExit',\n",
       " 'IOError',\n",
       " 'ImportError',\n",
       " 'ImportWarning',\n",
       " 'IndentationError',\n",
       " 'IndexError',\n",
       " 'InterruptedError',\n",
       " 'IsADirectoryError',\n",
       " 'KeyError',\n",
       " 'KeyboardInterrupt',\n",
       " 'LookupError',\n",
       " 'MemoryError',\n",
       " 'ModuleNotFoundError',\n",
       " 'NameError',\n",
       " 'None',\n",
       " 'NotADirectoryError',\n",
       " 'NotImplemented',\n",
       " 'NotImplementedError',\n",
       " 'OSError',\n",
       " 'OverflowError',\n",
       " 'PendingDeprecationWarning',\n",
       " 'PermissionError',\n",
       " 'ProcessLookupError',\n",
       " 'RecursionError',\n",
       " 'ReferenceError',\n",
       " 'ResourceWarning',\n",
       " 'RuntimeError',\n",
       " 'RuntimeWarning',\n",
       " 'StopAsyncIteration',\n",
       " 'StopIteration',\n",
       " 'SyntaxError',\n",
       " 'SyntaxWarning',\n",
       " 'SystemError',\n",
       " 'SystemExit',\n",
       " 'TabError',\n",
       " 'TimeoutError',\n",
       " 'True',\n",
       " 'TypeError',\n",
       " 'UnboundLocalError',\n",
       " 'UnicodeDecodeError',\n",
       " 'UnicodeEncodeError',\n",
       " 'UnicodeError',\n",
       " 'UnicodeTranslateError',\n",
       " 'UnicodeWarning',\n",
       " 'UserWarning',\n",
       " 'ValueError',\n",
       " 'Warning',\n",
       " 'ZeroDivisionError',\n",
       " '__IPYTHON__',\n",
       " '__build_class__',\n",
       " '__debug__',\n",
       " '__doc__',\n",
       " '__import__',\n",
       " '__loader__',\n",
       " '__name__',\n",
       " '__package__',\n",
       " '__spec__',\n",
       " 'abs',\n",
       " 'aiter',\n",
       " 'all',\n",
       " 'anext',\n",
       " 'any',\n",
       " 'ascii',\n",
       " 'bin',\n",
       " 'bool',\n",
       " 'breakpoint',\n",
       " 'bytearray',\n",
       " 'bytes',\n",
       " 'callable',\n",
       " 'chr',\n",
       " 'classmethod',\n",
       " 'compile',\n",
       " 'complex',\n",
       " 'copyright',\n",
       " 'credits',\n",
       " 'delattr',\n",
       " 'dict',\n",
       " 'dir',\n",
       " 'display',\n",
       " 'divmod',\n",
       " 'enumerate',\n",
       " 'eval',\n",
       " 'exec',\n",
       " 'execfile',\n",
       " 'filter',\n",
       " 'float',\n",
       " 'format',\n",
       " 'frozenset',\n",
       " 'get_ipython',\n",
       " 'getattr',\n",
       " 'globals',\n",
       " 'hasattr',\n",
       " 'hash',\n",
       " 'help',\n",
       " 'hex',\n",
       " 'id',\n",
       " 'input',\n",
       " 'int',\n",
       " 'isinstance',\n",
       " 'issubclass',\n",
       " 'iter',\n",
       " 'len',\n",
       " 'license',\n",
       " 'list',\n",
       " 'locals',\n",
       " 'map',\n",
       " 'max',\n",
       " 'memoryview',\n",
       " 'min',\n",
       " 'next',\n",
       " 'object',\n",
       " 'oct',\n",
       " 'open',\n",
       " 'ord',\n",
       " 'pow',\n",
       " 'print',\n",
       " 'property',\n",
       " 'range',\n",
       " 'repr',\n",
       " 'reversed',\n",
       " 'round',\n",
       " 'runfile',\n",
       " 'set',\n",
       " 'setattr',\n",
       " 'slice',\n",
       " 'sorted',\n",
       " 'staticmethod',\n",
       " 'str',\n",
       " 'sum',\n",
       " 'super',\n",
       " 'tuple',\n",
       " 'type',\n",
       " 'vars',\n",
       " 'zip']"
      ]
     },
     "execution_count": 21,
     "metadata": {},
     "output_type": "execute_result"
    }
   ],
   "source": [
    "# type()\n",
    "type(1)\n",
    "__builtins__.type(\"Hey Folks!\")\n",
    "__builtins__.print(10/3)\n",
    "\n",
    "# __builtins__.help(dir)\n",
    "# dir()\n",
    "\n",
    "#1 + 2\n",
    "#dir()\n",
    "#_\n",
    "\n",
    "# a = 7\n",
    "#import math\n",
    "dir(__builtins__)"
   ]
  },
  {
   "cell_type": "markdown",
   "id": "a33990f3-343a-4fe1-bd6a-1348cf0732d6",
   "metadata": {
    "jp-MarkdownHeadingCollapsed": true
   },
   "source": [
    "# Conversão de Tipos"
   ]
  },
  {
   "cell_type": "code",
   "execution_count": 44,
   "id": "a5278338-bd5b-406d-99a8-f9ea34a258d0",
   "metadata": {},
   "outputs": [
    {
     "name": "stdout",
     "output_type": "stream",
     "text": [
      "<class 'int'>\n",
      "<class 'str'>\n",
      "5\n",
      "23\n",
      "<class 'str'>\n",
      "5.4\n"
     ]
    }
   ],
   "source": [
    "2 + 3\n",
    "\"2\" + \"3\"\n",
    "#2 + \"3\"\n",
    "#print(2 + \"3\")\n",
    "\n",
    "a = 2\n",
    "b = \"3\"\n",
    "\n",
    "print(type(a))\n",
    "print(type(b))\n",
    "\n",
    "print(a + int(b))\n",
    "print(str(a) + b)\n",
    "\n",
    "print(type(str(a)))\n",
    "\n",
    "print(2 + float(\"3.4\"))"
   ]
  },
  {
   "cell_type": "markdown",
   "id": "b6fe1e5a-5fa5-46b1-8f8f-cbf6ebc4df99",
   "metadata": {
    "jp-MarkdownHeadingCollapsed": true
   },
   "source": [
    "# Coerção Automática"
   ]
  },
  {
   "cell_type": "code",
   "execution_count": 69,
   "id": "26a35b81-1813-4260-ad0d-c554c10ead2f",
   "metadata": {},
   "outputs": [
    {
     "data": {
      "text/plain": [
       "float"
      ]
     },
     "execution_count": 69,
     "metadata": {},
     "output_type": "execute_result"
    }
   ],
   "source": [
    "10 / 2\n",
    "type(10 / 2)\n",
    "10 / 3\n",
    "10 // 3\n",
    "type(10 // 3)\n",
    "10 // 3.3\n",
    "type(10//3.3)\n",
    "10/2.5\n",
    "2 + True\n",
    "2 + False\n",
    "type(1 + 2)\n",
    "type(1 + 2.5)"
   ]
  },
  {
   "cell_type": "markdown",
   "id": "d53236a8-3ce1-4c90-a6ed-e2c25e9d5614",
   "metadata": {
    "jp-MarkdownHeadingCollapsed": true
   },
   "source": [
    "# Tipos Numéricos"
   ]
  },
  {
   "cell_type": "code",
   "execution_count": 108,
   "id": "15f47567-ea2e-46f0-bb81-907888443aad",
   "metadata": {},
   "outputs": [
    {
     "data": {
      "text/plain": [
       "3.6"
      ]
     },
     "execution_count": 108,
     "metadata": {},
     "output_type": "execute_result"
    }
   ],
   "source": [
    "dir(int)\n",
    "dir(float)\n",
    "\n",
    "a = 5\n",
    "b = 2.5\n",
    "a / b\n",
    "a + b\n",
    "a * b\n",
    "\n",
    "type(a)\n",
    "type(b)\n",
    "\n",
    "b.is_integer()\n",
    "5.0.is_integer()\n",
    "\n",
    "dir(int)\n",
    "int.__add__(2,3)\n",
    "2 + 3\n",
    "\n",
    "(-2).__abs__()\n",
    "abs(-2)\n",
    "\n",
    "(-3.6).__abs__()\n",
    "dir(float)\n",
    "abs(-3.6)"
   ]
  },
  {
   "cell_type": "code",
   "execution_count": 132,
   "id": "458e6f28-72c3-4f31-a087-37463ca0c743",
   "metadata": {},
   "outputs": [
    {
     "data": {
      "text/plain": [
       "['Decimal',\n",
       " 'In',\n",
       " 'Out',\n",
       " '_',\n",
       " '_1',\n",
       " '_10',\n",
       " '_100',\n",
       " '_101',\n",
       " '_102',\n",
       " '_103',\n",
       " '_104',\n",
       " '_105',\n",
       " '_106',\n",
       " '_107',\n",
       " '_108',\n",
       " '_109',\n",
       " '_110',\n",
       " '_111',\n",
       " '_112',\n",
       " '_113',\n",
       " '_114',\n",
       " '_115',\n",
       " '_116',\n",
       " '_117',\n",
       " '_118',\n",
       " '_119',\n",
       " '_12',\n",
       " '_120',\n",
       " '_121',\n",
       " '_122',\n",
       " '_123',\n",
       " '_124',\n",
       " '_125',\n",
       " '_126',\n",
       " '_127',\n",
       " '_128',\n",
       " '_129',\n",
       " '_13',\n",
       " '_130',\n",
       " '_131',\n",
       " '_14',\n",
       " '_15',\n",
       " '_16',\n",
       " '_18',\n",
       " '_19',\n",
       " '_2',\n",
       " '_20',\n",
       " '_21',\n",
       " '_22',\n",
       " '_23',\n",
       " '_24',\n",
       " '_25',\n",
       " '_26',\n",
       " '_27',\n",
       " '_29',\n",
       " '_3',\n",
       " '_31',\n",
       " '_33',\n",
       " '_35',\n",
       " '_37',\n",
       " '_39',\n",
       " '_4',\n",
       " '_41',\n",
       " '_43',\n",
       " '_45',\n",
       " '_46',\n",
       " '_47',\n",
       " '_48',\n",
       " '_49',\n",
       " '_5',\n",
       " '_50',\n",
       " '_51',\n",
       " '_52',\n",
       " '_53',\n",
       " '_54',\n",
       " '_55',\n",
       " '_56',\n",
       " '_57',\n",
       " '_58',\n",
       " '_59',\n",
       " '_6',\n",
       " '_60',\n",
       " '_61',\n",
       " '_62',\n",
       " '_63',\n",
       " '_64',\n",
       " '_65',\n",
       " '_66',\n",
       " '_67',\n",
       " '_68',\n",
       " '_69',\n",
       " '_7',\n",
       " '_70',\n",
       " '_71',\n",
       " '_72',\n",
       " '_73',\n",
       " '_74',\n",
       " '_75',\n",
       " '_77',\n",
       " '_78',\n",
       " '_79',\n",
       " '_8',\n",
       " '_80',\n",
       " '_81',\n",
       " '_82',\n",
       " '_83',\n",
       " '_84',\n",
       " '_85',\n",
       " '_86',\n",
       " '_87',\n",
       " '_88',\n",
       " '_89',\n",
       " '_9',\n",
       " '_90',\n",
       " '_91',\n",
       " '_92',\n",
       " '_93',\n",
       " '_94',\n",
       " '_95',\n",
       " '_96',\n",
       " '_97',\n",
       " '_98',\n",
       " '_99',\n",
       " '__',\n",
       " '___',\n",
       " '__builtin__',\n",
       " '__builtins__',\n",
       " '__doc__',\n",
       " '__loader__',\n",
       " '__name__',\n",
       " '__package__',\n",
       " '__pandas',\n",
       " '__session__',\n",
       " '__spec__',\n",
       " '_dh',\n",
       " '_i',\n",
       " '_i1',\n",
       " '_i10',\n",
       " '_i100',\n",
       " '_i101',\n",
       " '_i102',\n",
       " '_i103',\n",
       " '_i104',\n",
       " '_i105',\n",
       " '_i106',\n",
       " '_i107',\n",
       " '_i108',\n",
       " '_i109',\n",
       " '_i11',\n",
       " '_i110',\n",
       " '_i111',\n",
       " '_i112',\n",
       " '_i113',\n",
       " '_i114',\n",
       " '_i115',\n",
       " '_i116',\n",
       " '_i117',\n",
       " '_i118',\n",
       " '_i119',\n",
       " '_i12',\n",
       " '_i120',\n",
       " '_i121',\n",
       " '_i122',\n",
       " '_i123',\n",
       " '_i124',\n",
       " '_i125',\n",
       " '_i126',\n",
       " '_i127',\n",
       " '_i128',\n",
       " '_i129',\n",
       " '_i13',\n",
       " '_i130',\n",
       " '_i131',\n",
       " '_i132',\n",
       " '_i14',\n",
       " '_i15',\n",
       " '_i16',\n",
       " '_i17',\n",
       " '_i18',\n",
       " '_i19',\n",
       " '_i2',\n",
       " '_i20',\n",
       " '_i21',\n",
       " '_i22',\n",
       " '_i23',\n",
       " '_i24',\n",
       " '_i25',\n",
       " '_i26',\n",
       " '_i27',\n",
       " '_i28',\n",
       " '_i29',\n",
       " '_i3',\n",
       " '_i30',\n",
       " '_i31',\n",
       " '_i32',\n",
       " '_i33',\n",
       " '_i34',\n",
       " '_i35',\n",
       " '_i36',\n",
       " '_i37',\n",
       " '_i38',\n",
       " '_i39',\n",
       " '_i4',\n",
       " '_i40',\n",
       " '_i41',\n",
       " '_i42',\n",
       " '_i43',\n",
       " '_i44',\n",
       " '_i45',\n",
       " '_i46',\n",
       " '_i47',\n",
       " '_i48',\n",
       " '_i49',\n",
       " '_i5',\n",
       " '_i50',\n",
       " '_i51',\n",
       " '_i52',\n",
       " '_i53',\n",
       " '_i54',\n",
       " '_i55',\n",
       " '_i56',\n",
       " '_i57',\n",
       " '_i58',\n",
       " '_i59',\n",
       " '_i6',\n",
       " '_i60',\n",
       " '_i61',\n",
       " '_i62',\n",
       " '_i63',\n",
       " '_i64',\n",
       " '_i65',\n",
       " '_i66',\n",
       " '_i67',\n",
       " '_i68',\n",
       " '_i69',\n",
       " '_i7',\n",
       " '_i70',\n",
       " '_i71',\n",
       " '_i72',\n",
       " '_i73',\n",
       " '_i74',\n",
       " '_i75',\n",
       " '_i76',\n",
       " '_i77',\n",
       " '_i78',\n",
       " '_i79',\n",
       " '_i8',\n",
       " '_i80',\n",
       " '_i81',\n",
       " '_i82',\n",
       " '_i83',\n",
       " '_i84',\n",
       " '_i85',\n",
       " '_i86',\n",
       " '_i87',\n",
       " '_i88',\n",
       " '_i89',\n",
       " '_i9',\n",
       " '_i90',\n",
       " '_i91',\n",
       " '_i92',\n",
       " '_i93',\n",
       " '_i94',\n",
       " '_i95',\n",
       " '_i96',\n",
       " '_i97',\n",
       " '_i98',\n",
       " '_i99',\n",
       " '_ih',\n",
       " '_ii',\n",
       " '_iii',\n",
       " '_oh',\n",
       " 'a',\n",
       " 'b',\n",
       " 'dataframe_columns',\n",
       " 'dataframe_hash',\n",
       " 'dtypes_str',\n",
       " 'exit',\n",
       " 'get_dataframes',\n",
       " 'get_ipython',\n",
       " 'getcontext',\n",
       " 'getpass',\n",
       " 'hashlib',\n",
       " 'import_pandas_safely',\n",
       " 'is_data_frame',\n",
       " 'json',\n",
       " 'math',\n",
       " 'open',\n",
       " 'quit']"
      ]
     },
     "execution_count": 132,
     "metadata": {},
     "output_type": "execute_result"
    }
   ],
   "source": [
    "# 1.1 + 2.2\n",
    "from decimal import Decimal, getcontext\n",
    "Decimal(1) / Decimal(7) \n",
    "\n",
    "getcontext().prec = 4\n",
    "Decimal(1) / Decimal(7) \n",
    "Decimal.max(Decimal(1), Decimal(7))\n",
    "dir(Decimal)\n",
    "\n",
    "1.1 + 2.2\n",
    "getcontext().prec = 10\n",
    "Decimal(1.1) + Decimal(2.2)\n",
    "\n",
    "dir(Decimal)\n",
    "dir()"
   ]
  },
  {
   "cell_type": "markdown",
   "id": "4c562d49-ed36-409c-aad2-6e1873ae5a13",
   "metadata": {
    "jp-MarkdownHeadingCollapsed": true
   },
   "source": [
    "# Tipo String"
   ]
  },
  {
   "cell_type": "code",
   "execution_count": 167,
   "id": "66fcb34d-b096-4ad3-88bf-f23b26643486",
   "metadata": {},
   "outputs": [
    {
     "name": "stdout",
     "output_type": "stream",
     "text": [
      "Texto com múltiplas\n",
      " \t... linhas\n",
      "Texto com múltiplas\n",
      "    ... linhas\n"
     ]
    },
    {
     "data": {
      "text/plain": [
       "'Também é possível\\n... com 3 aspas simples'"
      ]
     },
     "execution_count": 167,
     "metadata": {},
     "output_type": "execute_result"
    }
   ],
   "source": [
    "dir(str)\n",
    "nome = \"Arnaldo Junior\"\n",
    "nome\n",
    "nome[0]\n",
    "# nome[0] = \"O\"\n",
    "\n",
    "# marca d'água\n",
    "\"Dias D'Avilla\" == 'Dias D\\'Avilla'\n",
    "\"Teste \\\" funciona!\"\n",
    "texto = \"Texto entre apostrófos pode ter 'aspas'\"\n",
    "texto\n",
    "\n",
    "doc = \"\"\"Texto com múltiplas\n",
    "    ... linhas\"\"\"\n",
    "doc\n",
    "print(\"Texto com múltiplas\\n \\t... linhas\")\n",
    "print(doc)\n",
    "\n",
    "doc2 = '''Também é possível\n",
    "... com 3 aspas simples'''\n",
    "doc2"
   ]
  },
  {
   "cell_type": "code",
   "execution_count": 201,
   "id": "bf244178-1a27-47af-aa7d-625c79cdfdae",
   "metadata": {},
   "outputs": [
    {
     "data": {
      "text/plain": [
       "'roinuJ odlanrA'"
      ]
     },
     "execution_count": 201,
     "metadata": {},
     "output_type": "execute_result"
    }
   ],
   "source": [
    "name = \"Arnaldo Junior\"\n",
    "name[0]\n",
    "name[6]\n",
    "name[-3]\n",
    "name[4:]\n",
    "name[-5:]\n",
    "name[:7]\n",
    "\n",
    "name[2:5]\n",
    "\n",
    "numbers = \"1234567890\"\n",
    "numbers\n",
    "numbers[::]\n",
    "numbers[::2]\n",
    "numbers[1::2]\n",
    "numbers[::-1]\n",
    "numbers[::-2]\n",
    "\n",
    "name[::-1]"
   ]
  },
  {
   "cell_type": "code",
   "execution_count": 239,
   "id": "9789b4a4-d625-47d2-b08c-15202579c2e0",
   "metadata": {},
   "outputs": [
    {
     "name": "stdout",
     "output_type": "stream",
     "text": [
      "Help on method_descriptor:\n",
      "\n",
      "center(self, width, fillchar=' ', /)\n",
      "    Return a centered string of length width.\n",
      "    \n",
      "    Padding is done using the specified fill character (default is a space).\n",
      "\n"
     ]
    }
   ],
   "source": [
    "phrase = \"Python is an excellent language\"\n",
    "\"py\" not in phrase\n",
    "\"ang\" in phrase\n",
    "len(phrase)\n",
    "phrase.lower()\n",
    "phrase\n",
    "phrase = phrase.upper()\n",
    "phrase\n",
    "\n",
    "phrase.split()\n",
    "phrase.split(\"E\")\n",
    "\n",
    "# dir(str)\n",
    "# help(str.center)"
   ]
  },
  {
   "cell_type": "code",
   "execution_count": 257,
   "id": "d5095815-56f0-4251-aeb8-e0d130a9bba8",
   "metadata": {},
   "outputs": [
    {
     "data": {
      "text/plain": [
       "True"
      ]
     },
     "execution_count": 257,
     "metadata": {},
     "output_type": "execute_result"
    }
   ],
   "source": [
    "a = \"123\"\n",
    "b = \" de Oliveira 4\"\n",
    "a + b\n",
    "a.__add__(b)\n",
    "str.__add__(a, b)\n",
    "\n",
    "dir(str)\n",
    "len(a)\n",
    "a.__len__()\n",
    "\"1\" in a\n",
    "a.__contains__(\"1\")"
   ]
  },
  {
   "cell_type": "markdown",
   "id": "b251823a-43f4-4a0b-b4e9-0fed220a2f09",
   "metadata": {
    "jp-MarkdownHeadingCollapsed": true
   },
   "source": [
    "# Lista"
   ]
  },
  {
   "cell_type": "code",
   "execution_count": 290,
   "id": "22029e25-c203-4e81-abc7-cc4b724b1758",
   "metadata": {},
   "outputs": [
    {
     "data": {
      "text/plain": [
       "['Junior', 'Arnaldo', 1]"
      ]
     },
     "execution_count": 290,
     "metadata": {},
     "output_type": "execute_result"
    }
   ],
   "source": [
    "list = []\n",
    "type(list)\n",
    "dir(list)\n",
    "# help(list) \n",
    "len(list)\n",
    "list.append(1)\n",
    "list.append(5)\n",
    "list\n",
    "len(list)\n",
    "\n",
    "new_list = [1, 5, \"Arnaldo\", \"Junior\"]\n",
    "new_list\n",
    "new_list.remove(5)\n",
    "new_list\n",
    "new_list.reverse()\n",
    "new_list"
   ]
  },
  {
   "cell_type": "code",
   "execution_count": 306,
   "id": "3857ab23-f615-458a-a7b4-da306a4fa396",
   "metadata": {},
   "outputs": [
    {
     "data": {
      "text/plain": [
       "1"
      ]
     },
     "execution_count": 306,
     "metadata": {},
     "output_type": "execute_result"
    }
   ],
   "source": [
    "list = [1, 5, \"Rebeca\", \"Guilherme\", 3.1415]\n",
    "list.index(\"Guilherme\")\n",
    "# list.index(42)\n",
    "list[2]\n",
    "1 in list\n",
    "\"Rebeca\" in list\n",
    "\"Pedro\" not in list\n",
    "list[0]\n",
    "list[4]\n",
    "# list[5]\n",
    "list[-1]\n",
    "list[-5]"
   ]
  },
  {
   "cell_type": "code",
   "execution_count": 338,
   "id": "09286268-7b8b-4e74-8334-ece1fa86ab64",
   "metadata": {},
   "outputs": [
    {
     "data": {
      "text/plain": [
       "['Ana']"
      ]
     },
     "execution_count": 338,
     "metadata": {},
     "output_type": "execute_result"
    }
   ],
   "source": [
    "list = [\"Ana\", \"Lia\", \"Rui\", \"Paulo\", \"Dani\"]\n",
    "list[1:3]\n",
    "list[1:-1]\n",
    "list[1:]\n",
    "list[:-1]\n",
    "list[:]\n",
    "list[::2]\n",
    "list[::-1]\n",
    "del list[2]\n",
    "list\n",
    "del list[1:]\n",
    "list"
   ]
  },
  {
   "cell_type": "markdown",
   "id": "3eb01229-607d-4db6-a003-51f4fa188055",
   "metadata": {
    "jp-MarkdownHeadingCollapsed": true
   },
   "source": [
    "# Tupla"
   ]
  },
  {
   "cell_type": "code",
   "execution_count": 1,
   "id": "c3a3f795-0c8d-4edb-a20b-7beb749a8afe",
   "metadata": {},
   "outputs": [
    {
     "data": {
      "text/plain": [
       "4"
      ]
     },
     "execution_count": 1,
     "metadata": {},
     "output_type": "execute_result"
    }
   ],
   "source": [
    "# tupla = tuple()\n",
    "tupla = ()\n",
    "# type(tupla)\n",
    "\n",
    "dir(tupla)\n",
    "#help(tupla)\n",
    "tupla = (\"um\")\n",
    "type(tupla)\n",
    "tupla = (\"um\",)\n",
    "type(tupla)\n",
    "tupla[0]\n",
    "# tupla[0] = \"novo\"\n",
    "\n",
    "colors = [\"green\", \"yellow\", \"blue\", \"white\"]\n",
    "colors[0]\n",
    "colors[-1]\n",
    "colors[1:]\n",
    "\n",
    "colors.index(\"yellow\")\n",
    "colors.count(\"Blue\")\n",
    "len(colors)"
   ]
  },
  {
   "cell_type": "markdown",
   "id": "fff8f3c9-06e7-4e88-9051-7338503e1a05",
   "metadata": {
    "jp-MarkdownHeadingCollapsed": true
   },
   "source": [
    "# Dicionários"
   ]
  },
  {
   "cell_type": "code",
   "execution_count": 44,
   "id": "4d2b4861-10fb-4fe0-9afb-2d904c8f70c3",
   "metadata": {},
   "outputs": [
    {
     "data": {
      "text/plain": [
       "[]"
      ]
     },
     "execution_count": 44,
     "metadata": {},
     "output_type": "execute_result"
    }
   ],
   "source": [
    "person = {\"name\": \"Prof(a). Ana\", \"age\": 38, \"courses\": [\"English\", \"Portuguese\"]}\n",
    "type(person)\n",
    "dir(dict)\n",
    "len(person)\n",
    "\n",
    "person\n",
    "person[\"name\"]\n",
    "person[\"age\"]\n",
    "person[\"courses\"]\n",
    "person[\"courses\"][1]\n",
    "# person[\"tags\"]\n",
    "person.keys()\n",
    "person.values()\n",
    "person.items()\n",
    "person.get(\"age\")\n",
    "person.get(\"tags\")\n",
    "\n",
    "person.get(\"tags\", [])"
   ]
  },
  {
   "cell_type": "code",
   "execution_count": 63,
   "id": "08a80c58-e521-4b89-aaa3-3534e57b3449",
   "metadata": {},
   "outputs": [
    {
     "data": {
      "text/plain": [
       "{}"
      ]
     },
     "execution_count": 63,
     "metadata": {},
     "output_type": "execute_result"
    }
   ],
   "source": [
    "person = {\"name\": \"Prof. Alberto\",\"age\": 43, \"courses\": [\"React\", \"Python\"]}\n",
    "person[\"age\"] = 44\n",
    "person[\"courses\"].append(\"Angular\")\n",
    "person\n",
    "\n",
    "person.pop(\"age\")\n",
    "\n",
    "person.update({\"age\": 40, \"gender\": \"M\"})\n",
    "person\n",
    "\n",
    "del person[\"courses\"]\n",
    "person\n",
    "\n",
    "person.clear()\n",
    "person"
   ]
  },
  {
   "cell_type": "markdown",
   "id": "02186064-4052-477d-a3d7-645bc7e6de6c",
   "metadata": {
    "jp-MarkdownHeadingCollapsed": true
   },
   "source": [
    "# Conjuntos"
   ]
  },
  {
   "cell_type": "code",
   "execution_count": 104,
   "id": "5bee03bc-1867-469c-a44c-2387666d3c68",
   "metadata": {},
   "outputs": [
    {
     "name": "stdout",
     "output_type": "stream",
     "text": [
      "{'p', 'l', 'k', 'n', 'r', 'u', 'S', 'e'}\n",
      "True True\n"
     ]
    },
    {
     "data": {
      "text/plain": [
       "{1, 3}"
      ]
     },
     "execution_count": 104,
     "metadata": {},
     "output_type": "execute_result"
    }
   ],
   "source": [
    "a = {1, 2, 3}\n",
    "type(a)\n",
    "# a[0]\n",
    "a = set(\"Spellunker\")\n",
    "print(a)\n",
    "print(\"S\" in a, \"P\" not in a)\n",
    "{1, 2, 3} == {3, 2, 1, 3}\n",
    "\n",
    "# operações com conjuntos\n",
    "c1 = {1, 2}\n",
    "c2 = {2, 3}\n",
    "c1.union(c2)\n",
    "c1.intersection(c2)\n",
    "c1.update(c2)\n",
    "c1\n",
    "\n",
    "c2 <= c1\n",
    "c1 >= c2\n",
    "\n",
    "{1, 2, 3} - {2}\n",
    "c1 - c2\n",
    "c1 -= {2}"
   ]
  },
  {
   "cell_type": "markdown",
   "id": "006eb9f4-4816-417d-adff-19b8befe0366",
   "metadata": {
    "jp-MarkdownHeadingCollapsed": true
   },
   "source": [
    "# Interpolação"
   ]
  },
  {
   "cell_type": "code",
   "execution_count": 129,
   "id": "02fc4ac4-d24e-42b8-a12e-0e95372f8499",
   "metadata": {},
   "outputs": [
    {
     "name": "stdout",
     "output_type": "stream",
     "text": [
      "Name: Ana Age: 30\n",
      "Name: Ana Age: 30\n",
      "Name: Ana Age: 30\n",
      "Name: Ana Age: 30\n"
     ]
    }
   ],
   "source": [
    "from string import Template\n",
    "\n",
    "name, age = \"Ana\", 30\n",
    "\n",
    "print(\"Name: %s Age: %d\" % (name, age)) # mais antiga, menos recomendada\n",
    "print(\"Name: {0} Age: {1}\".format(name, age)) # Python < 3.6\n",
    "print(f\"Name: {name} Age: {age}\") # Python >= 3.7\n",
    "\n",
    "s = Template(\"Name: $n Age: $a\")\n",
    "print(s.substitute(n=name, a=age))"
   ]
  },
  {
   "cell_type": "markdown",
   "id": "26968a39-7237-487a-833e-aa38961c0133",
   "metadata": {
    "jp-MarkdownHeadingCollapsed": true
   },
   "source": [
    "# If & Else if"
   ]
  },
  {
   "cell_type": "code",
   "execution_count": 25,
   "id": "5f6ef565-be83-4d17-8b20-a5832991d346",
   "metadata": {},
   "outputs": [
    {
     "name": "stdout",
     "output_type": "stream",
     "text": [
      "Recovery + school work\n"
     ]
    }
   ],
   "source": [
    "grade = 3\n",
    "\n",
    "if grade >= 9:\n",
    "    print(\"Honor board\")\n",
    "elif grade >= 7:\n",
    "    print(\"Approved\")\n",
    "elif grade >= 5:\n",
    "    print(\"Recovery\")\n",
    "elif grade >= 3:\n",
    "    print(\"Recovery + school work\")\n",
    "else:\n",
    "    print(\"Failed\")"
   ]
  }
 ],
 "metadata": {
  "kernelspec": {
   "display_name": "Python [conda env:base] *",
   "language": "python",
   "name": "conda-base-py"
  },
  "language_info": {
   "codemirror_mode": {
    "name": "ipython",
    "version": 3
   },
   "file_extension": ".py",
   "mimetype": "text/x-python",
   "name": "python",
   "nbconvert_exporter": "python",
   "pygments_lexer": "ipython3",
   "version": "3.11.7"
  }
 },
 "nbformat": 4,
 "nbformat_minor": 5
}
